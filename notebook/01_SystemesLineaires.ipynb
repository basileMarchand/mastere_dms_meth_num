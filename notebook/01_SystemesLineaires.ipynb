{
 "cells": [
  {
   "cell_type": "markdown",
   "metadata": {
    "slideshow": {
     "slide_type": "slide"
    }
   },
   "source": [
    "# Systèmes Linéaires\n",
    "\n",
    "**Basile Marchand** --- Mines ParisTech"
   ]
  },
  {
   "cell_type": "markdown",
   "metadata": {
    "slideshow": {
     "slide_type": "slide"
    }
   },
   "source": [
    "## Résolution de systèmes linéaires : Quel intérêt  ?  "
   ]
  },
  {
   "cell_type": "markdown",
   "metadata": {
    "slideshow": {
     "slide_type": "subslide"
    }
   },
   "source": [
    "### Les systèmes linéaires : incontournables\n",
    "\n",
    "En mécanique numérique (non-)linéaire la résolution de systèmes linéaires est impérative  \n",
    "\n",
    "Pour un comportement *linéaire* :\n",
    "\n",
    "$$ \\mathbf{K}\\cdot \\mathbf{U} = \\mathbf{F}_{ext} $$\n",
    "\n",
    "où $\\mathbf{K}\\in\\mathbb{R}^{n_{dof}\\times n_{dof}}$   \n",
    "\n",
    "Pour un comportement *non-linéaire* :  \n",
    "\n",
    "$$ \\mathbf{R}( \\mathbf{\\Delta U} ) = \\mathbf{F}_{int} + \\mathbf{F}_{ext} = \\mathbf{0} $$\n",
    "\n",
    "En introduisant un algorithme de Newton ce problème se ramène à :  \n",
    "\n",
    "$$ \\mathbf{\\Delta U}^{(k+1)} =  \\mathbf{\\Delta U}^{(k)} +  \\mathbf{\\delta U} $$\n",
    "\n",
    "avec\n",
    "\n",
    "$$ \\mathcal{J}(\\mathbf{R}( \\mathbf{\\Delta U}^{(k)} ) ) \\mathbf{\\delta U} = - R(\\mathbf{\\Delta U}^{(k)} ) $$"
   ]
  },
  {
   "cell_type": "markdown",
   "metadata": {
    "slideshow": {
     "slide_type": "subslide"
    }
   },
   "source": [
    "### Notation pour la suite \n",
    "\n",
    "Dans toute la suite du cours on cherchera à résoudre le système linéaire :\n",
    "\n",
    "$$ \\mathbf{A}\\cdot \\mathbf{x} = \\mathbf{b} $$\n",
    "\n",
    "Avec :\n",
    "* La matrice $\\mathbf{A}\\in \\mathbb{R}^{n \\times n}$\n",
    "* Le second membre $\\mathbf{b} \\in\\mathbb{R}^{n}$\n",
    "* Le vecteur d'inconnues $\\mathbf{x} \\in \\mathbb{R}^{n}$\n"
   ]
  },
  {
   "cell_type": "markdown",
   "metadata": {
    "slideshow": {
     "slide_type": "subslide"
    }
   },
   "source": [
    "### Les deux classes de méthodes \n",
    "\n",
    "Pour résoudre un système linéaire\n",
    "\n",
    "$$\\mathbf{A}\\cdot \\mathbf{x} = \\mathbf{b}$$\n",
    "\n",
    "Il existe deux grandes classes de méthodes :\n",
    "1. Les méthodes dites **directes**\n",
    "2. Les méthodes dites **itératives**\n"
   ]
  },
  {
   "cell_type": "markdown",
   "metadata": {
    "slideshow": {
     "slide_type": "fragment"
    }
   },
   "source": [
    "Quelle différence ?  \n",
    "\n",
    "Avec les méthodes directs on calcul une solution **exacte** tandis qu'avec des méthodes itératives on va construire une solution **approchée** "
   ]
  },
  {
   "cell_type": "markdown",
   "metadata": {
    "slideshow": {
     "slide_type": "slide"
    }
   },
   "source": [
    "## Quelques méthodes directes"
   ]
  },
  {
   "cell_type": "markdown",
   "metadata": {
    "slideshow": {
     "slide_type": "subslide"
    }
   },
   "source": [
    "### Inverse et factorisation\n",
    "On note souvent :\n",
    "\n",
    "$$ \\mathbf{x} = \\mathbf{A}^{-1} \\cdot \\mathbf{b} $$\n",
    "\n",
    "Mais dans la pratique on ne calcul <span style=\"color:red\"> jamais </span> la matrice inverse $\\mathbf{A}^{-1}$.\n",
    "\n",
    "Alors comment on fait ?\n",
    "\n",
    "> On calcul une décomposition de $A$ permettant une résolution rapide\n",
    "\n",
    "Pour cela on se ramène à des matrices **triangulaires**  \n"
   ]
  },
  {
   "cell_type": "markdown",
   "metadata": {
    "slideshow": {
     "slide_type": "subslide"
    }
   },
   "source": [
    "### Les matrices triangulaires \n",
    "\n",
    "\n",
    "$$ \n",
    "\\mathbf{A} = \\left[\\begin{array}{cccc}A_{11} & A_{12} & A_{13} & A_{14} \\\\ 0 & A_{22} & A_{23} & A_{24} \\\\ 0 & 0 & A_{33} & A_{34} \\\\ 0 & 0 & 0 & A_{44} \\end{array}\\right] \\cdot\n",
    "\\left[\\begin{array}{c} x_{1} \\\\ x_{2} \\\\ x_{3} \\\\ x_{4} \\end{array}\\right]=\\left[\\begin{array}{c}\n",
    "b_{1} \\\\\n",
    "b_{2} \\\\\n",
    "b_{3} \\\\\n",
    "b_{4} \\end{array}\\right]\n",
    "$$\n",
    "\n",
    "\n",
    "On calcul $x_4 = \\dfrac{b_4}{A_{44}}$ ($x_N$ dans le cas général), puis $x_3$ ... jusqu'à $x_1$.  \n",
    "C'est ce qu'on appelle l'étape de **remontée** (backward)  \n",
    "\n",
    "$$ x_i = \\frac{1}{A_{ii}} \\left( b_i - \\sum_{j=i+1}^{N} A_{ij} \\cdot x_i \\right)$$    "
   ]
  },
  {
   "cell_type": "code",
   "execution_count": 6,
   "metadata": {
    "slideshow": {
     "slide_type": "subslide"
    }
   },
   "outputs": [],
   "source": [
    "def resolution_triangulaire_superieure(matrice, vecteur):\n",
    "    sol = np.zeros_like(vecteur)\n",
    "    n = vecteur.shape[0]\n",
    "    for i in range(n-1,-1,-1):\n",
    "        sol[i] = vecteur[i]\n",
    "        for j in range(i+1,n):\n",
    "            sol[i] -= matrice[i,j]*sol[j]\n",
    "        sol[i] /= matrice[i,i]\n",
    "    return sol"
   ]
  },
  {
   "cell_type": "markdown",
   "metadata": {
    "slideshow": {
     "slide_type": "subslide"
    }
   },
   "source": [
    "### Élimination de Gauss\n",
    "\n",
    "$$ \\mathbf{A} \\cdot \\mathbf{x} = \\mathbf{b} $$\n",
    "\n",
    "**Règles :**  \n",
    "\n",
    "1. On peut permuter deux lignes de $\\mathbf{A}$ sans changer la solution $\\mathbf{x}$, en effectuant la même permutation de ligne sur $\\mathbf{B}$.\n",
    "2. On peut modifier une ligne de $\\mathbf{A}$ avec une combinaison linéaire d'autres lignes de $\\mathbf{A}$ sans changer la solution $\\mathbf{x}$, en effectuant la même com\\\n",
    "binaison de lignes sur $\\mathbf{B}$\n",
    "3. On peut permuter deux colonnes de $\\mathbf{A}$ si l'on permute les lignes correspondantes de $\\mathbf{x}$. Attention, il faut reconstruire la solution avec la numérotati\\\n",
    "on d'origine.\n",
    "\n",
    "\n",
    "On va donc transformer le système\n",
    "\n",
    "$$ \\mathbf{A}\\cdot\\mathbf{x} = \\mathbf{b} $$\n",
    "\n",
    "en un autre système\n",
    "\n",
    "$$ \\mathbf{\\tilde{A}} \\cdot \\mathbf{x} = \\mathbf{\\tilde{b}} $$\n",
    "\n",
    "où $\\mathbf{\\tilde{A}}\\in\\mathbb{R}^N$ est une matrice **triangulaire supérieure**\n"
   ]
  },
  {
   "cell_type": "code",
   "execution_count": 1,
   "metadata": {
    "slideshow": {
     "slide_type": "subslide"
    }
   },
   "outputs": [],
   "source": [
    "def pivot_gauss(lhs, rhs):\n",
    "    n = rhs.shape[0]\n",
    "    for i in range(0,n):\n",
    "        for j in range(i+1,n):\n",
    "            coef = lhs[j,i]/lhs[i,i]\n",
    "            lhs[j,:] -= coef * lhs[i,:]\n",
    "            rhs[j,0] -= coef * rhs[i,0]\n"
   ]
  },
  {
   "cell_type": "markdown",
   "metadata": {
    "slideshow": {
     "slide_type": "fragment"
    }
   },
   "source": [
    "Défauts :\n",
    "\n",
    "* Approche coûteuse\n",
    "* Ne peux servir que pour un seul second membre, i.e. n'est pas réutilisable\n"
   ]
  },
  {
   "cell_type": "markdown",
   "metadata": {
    "slideshow": {
     "slide_type": "subslide"
    }
   },
   "source": [
    "### La décomposition LU (Lower Upper)\n",
    "Utilisée pour les matrices $\\mathbf{A}$ carrées quelconques  \n",
    "Le principe : trouver $\\mathbf{L}$ et $\\mathbf{U}$ respectivement des matrices triangulaires inférieures, supérieures telles que :\n",
    "\n",
    "$$ \\mathbf{A} = \\mathbf{L}\\cdot \\mathbf{U} $$\n",
    "\n",
    "Quel intérêt ?\n",
    "\n",
    "$$\\mathbf{A}\\cdot \\mathbf{x} = \\mathbf{b} \\; \\Rightarrow \\; \\mathbf{L}\\cdot\\mathbf{U} \\cdot \\mathbf{x} = \\mathbf{b} $$\n",
    "\n",
    "On introduit alors $\\mathbf{y} = \\mathbf{U}\\cdot \\mathbf{x}$  \n",
    "\n",
    "On calcul alors $\\mathbf{y}$ par une descente :\n",
    "\n",
    "$$ \\mathbf{L} \\cdot \\mathbf{y} = \\mathbf{b} \\; \\Rightarrow \\; \\mathbf{y} = ... $$\n",
    "\n",
    "Et on en déduit $\\mathbf{x}$ par une remontée :\n",
    "\n",
    "$$ \\mathbf{U}\\cdot \\mathbf{x} = \\mathbf{y} \\; \\Rightarrow \\; \\mathbf{x} = ...$$\n",
    "\n",
    "La décomposition LU n'est pas unique, il faut fixer une des deux diagonales à l'identité."
   ]
  },
  {
   "cell_type": "markdown",
   "metadata": {
    "slideshow": {
     "slide_type": "subslide"
    }
   },
   "source": [
    "On procède par identification du produit $\\mathbf{L}\\cdot \\mathbf{U} = \\mathbf{A}$\n",
    "\n",
    "$$\n",
    "\\begin{cases}\n",
    " A_{ij} &= U_{ij} +  \\displaystyle\\sum_{k=1}^{i-1} L_{ik}U_{kj} & \\text{si}\\; i\\leq j \\newline\n",
    " A_{ij} &=  \\displaystyle\\sum_{k=1}^{i-1} L_{ik}U_{kj}  & \\text{si} \\; i > j\n",
    "\\end{cases}\n",
    "$$\n",
    "\n",
    "Cela se traduit par :\n",
    "\n",
    "$$ U_{ij} = A_{ij} - \\sum_{k=1}^{i-1} L_{ik} U_{kj}, \\;\\; 1 \\leq i \\leq j  $$\n",
    "\n",
    "$$ L_{ij} = \\frac{1}{U_{jj}} \\left( A_{ij} - \\sum_{k=1}^{j-1} L_{ik} U_{kj} \\right), \\;\\; j+1 \\leq i \\leq N $$\n"
   ]
  },
  {
   "cell_type": "markdown",
   "metadata": {
    "slideshow": {
     "slide_type": "subslide"
    }
   },
   "source": [
    "Concrètement, pour une matrice $\\mathbf{A}\\in\\mathbb{R}^{n\\times n}$ la factorisation LU se détermine de la manière suivante :"
   ]
  },
  {
   "cell_type": "code",
   "execution_count": 8,
   "metadata": {
    "slideshow": {
     "slide_type": "fragment"
    }
   },
   "outputs": [],
   "source": [
    "def decomposition_lu( lhs ):\n",
    "    L = np.zeros_like( lhs )\n",
    "    U = np.zeros_like( lhs )\n",
    "    n = lhs.shape[0]\n",
    "    for j in range(n,-1,-1):\n",
    "        U[j,j] = 1.\n",
    "        for i in range(j,n):\n",
    "            L[i,j] = A[i,j]\n",
    "            for k in range(j+1):\n",
    "                L[i,j] -= L[i,k]*U[k,j]\n",
    "        for i in range(j+1,n):\n",
    "            tmp = A[j,i]\n",
    "            for k in range(j+1):\n",
    "                tmp -= L[j,k]*U[k,i]\n",
    "            if L[j,j] < 1.e-10:\n",
    "                ## error \n",
    "                return \n",
    "            U[j,i] = tmp / L[j,j]\n",
    "    return L, U"
   ]
  },
  {
   "cell_type": "markdown",
   "metadata": {
    "slideshow": {
     "slide_type": "fragment"
    }
   },
   "source": [
    "Avantages :\n",
    "\n",
    "* Moins coûteux que l'approche précédente\n",
    "* La factorisée est **réutilisable**\n"
   ]
  },
  {
   "cell_type": "markdown",
   "metadata": {
    "slideshow": {
     "slide_type": "subslide"
    }
   },
   "source": [
    "### La factorisation de Cholesky\n",
    "Factorisation de Cholesky est réservée au cas particulier des matrices S.P.D.  \n",
    "Le principe : trouver $\\mathbf{L}$ triangulaire inférieure telle que\n",
    "\n",
    "$$ \\mathbf{A} = \\mathbf{L}\\cdot\\mathbf{L}^T $$\n",
    "\n",
    "On calcul alors la solution de $\\mathbf{A}\\cdot \\mathbf{x} = \\mathbf{b}$ de la manière suivante :\n",
    "\n",
    "1.   $\\mathbf{L} \\cdot \\mathbf{y} = \\mathbf{b} \\; \\Rightarrow \\; \\mathbf{y}$\n",
    "2.   $\\mathbf{L}^T \\cdot \\mathbf{x} = \\mathbf{y} \\; \\Rightarrow \\; \\mathbf{x}$\n",
    "\n",
    "Quel intérêt par rapport à un LU ?\n",
    "\n",
    "* Calcul de la décomposition moins coûteux\n",
    "* On ne stocke que $\\mathbf{L}$ en mémoire\n"
   ]
  },
  {
   "cell_type": "markdown",
   "metadata": {
    "slideshow": {
     "slide_type": "subslide"
    }
   },
   "source": [
    "$$ L_{jj} = \\sqrt{ A_{jj} - \\sum_{k=1}^{i-1} L_{jk}^2 } , \\;\\; 1 \\leq i \\leq j  $$\n",
    "\n",
    "$$ L_{ij} = \\frac{1}{A_{jj}} \\left( A_{ij} - \\sum_{k=1}^{j-1} L_{ik} L_{kj} \\right), \\;\\; j+1 \\leq i \\leq N $$            "
   ]
  },
  {
   "cell_type": "code",
   "execution_count": 9,
   "metadata": {
    "slideshow": {
     "slide_type": "fragment"
    }
   },
   "outputs": [],
   "source": [
    "def decomposition_cholesky( lhs ):\n",
    "    L = np.zeros_like( lhs )\n",
    "    n = lhs.shape[0]\n",
    "    for i in range(n):\n",
    "        for j in range(i+1):\n",
    "            tmp =0\n",
    "            for k in range(i+1):\n",
    "                tmp += L[i,k] * L[j,k]\n",
    "            if j==i:\n",
    "                L[i,j] = (lhs[i,i] - tmp)**(1./2.)\n",
    "            else:\n",
    "                L[i,j] = 1./L[j,j] * (rhs[i,j] - tmp)\n",
    "    return L"
   ]
  },
  {
   "cell_type": "markdown",
   "metadata": {
    "slideshow": {
     "slide_type": "subslide"
    }
   },
   "source": [
    "### Dans le cadre Python \n",
    "\n",
    "```python\n",
    "import numpy as np\n",
    "import numpy.linalg as npl\n",
    "```\n",
    "\n",
    "Deux fonctions utiles : \n",
    "\n",
    "* `npl.solve(lhs, rhs)`\n",
    "* `npl.cholesky( lhs )`\n",
    "\n",
    "Dans `scipy.linalg` un peu plus de choses disponibles : \n",
    "\n",
    "```python\n",
    "import scipy.linalg as scl\n",
    "```\n",
    "\n",
    "* `scl.lu(lhs, rhs)` : résolution par LU\n",
    "* `scl.lu_factor( lhs )` : décomposition LU\n",
    "\n"
   ]
  },
  {
   "cell_type": "markdown",
   "metadata": {
    "slideshow": {
     "slide_type": "slide"
    }
   },
   "source": [
    "## Les méthodes itératives"
   ]
  },
  {
   "cell_type": "markdown",
   "metadata": {
    "slideshow": {
     "slide_type": "subslide"
    }
   },
   "source": [
    "### Alternative aux méthodes directes\n",
    "\n",
    "Comme dit en introduction il y a un second type de méthode pour résoudre le système\n",
    "\n",
    "$$\\mathbf{A} \\cdot \\mathbf{x} = \\mathbf{b} $$\n",
    "\n",
    "Il s'agit des méthodes **itératives**\n",
    "\n",
    "**Avantage**\n",
    "\n",
    "Moins coûteuses en terme d'occupation mémoire                                                                                                                            \n",
    "\n",
    "\n",
    "**Inconvénient**\n",
    "\n",
    "Convergence plus ou moins longue dépendant de beaucoup de paramètres méthode employée, conditionnement de la matrice, initialisation "
   ]
  },
  {
   "cell_type": "markdown",
   "metadata": {
    "slideshow": {
     "slide_type": "subslide"
    }
   },
   "source": [
    "### Méthode de Gauss-Seidel \n",
    "L'idée est d'écrire la matrice $\\mathbf{A}$ comme la somme de trois matrices :\n",
    "\n",
    "$$ \\mathbf{A} = \\mathbf{L} + \\mathbf{D} +  \\mathbf{U} $$\n",
    "\n",
    "Avec $\\mathbf{L}$ triangulaire inférieure, $\\mathbf{U}$ triangulaire supérieure et $\\mathbf{L}$ diagonale. On peut alors construire la suite :\n",
    "\n",
    "$$ ( L + D ) \\cdot \\mathbf{x}^{(i+1)} = \\mathbf{b} - \\mathbf{U}\\cdot \\mathbf{x}^{(i)}$$\n",
    "\n",
    "Cet algorithme est associé au problème :\n",
    "\n",
    "$$\\mathbf{x} = ( L + D )^{-1} \\cdot \\left( \\mathbf{b} - \\mathbf{U}\\cdot \\mathbf{x} \\right)$$\n",
    "\n",
    "C'est un problème de point fixe. Il y a donc des conditions nécessaires de convergence !\n"
   ]
  },
  {
   "cell_type": "markdown",
   "metadata": {
    "slideshow": {
     "slide_type": "subslide"
    }
   },
   "source": [
    "### Méthodes de Krylov\n",
    "Deux grandes méthodes majoritairement employées :\n",
    "\n",
    "* Le gradient conjugué\n",
    "  - Uniquement pour les matrices symétriques\n",
    "* Le GMRes\n",
    "  - Fonctionne pour le non-symétrique\n",
    "\n",
    "Le principe construire des directions de descentes successive qui soient $\\mathbf{A}$ orthogonale, permet d'améliorer la convergence.\n"
   ]
  },
  {
   "cell_type": "markdown",
   "metadata": {
    "slideshow": {
     "slide_type": "subslide"
    }
   },
   "source": [
    "Dans la pratique les solveurs itératifs offres beaucoup d'avantages : \n",
    "\n",
    "* Coût de calcul réduit\n",
    "* Occupation mémoire réduite\n",
    "* Facielement parallélisable\n",
    "\n",
    "Ils sont en revanche un défaut majeur c'est que la convergence du solveur est directement liée au conditionnement du système linéaire. Or dans la cadre de calcul éléments finis non-linéaires le système linéarisé est très généralement mal conditionné. \n",
    "\n",
    "Il existe néanmoins des méthodes permettant d'améliorer la convergence des solveurs itératifs, cela passe par la mise en place d'un pré-conditionneur. \n",
    "\n",
    "$$ \\mathbf{P} \\cdot \\mathbf{A} \\cdot \\mathbf{x} = \\mathbf{P} \\cdot  \\mathbf{b} $$\n",
    "\n",
    "Les préconditionneurs classiques sont : \n",
    "\n",
    "* $\\text{diag}( \\mathbf{A} ) ^{-1}$\n",
    "* Factorisation par bloques\n",
    "* Factorisation incomplète\n"
   ]
  },
  {
   "cell_type": "markdown",
   "metadata": {
    "slideshow": {
     "slide_type": "subslide"
    }
   },
   "source": [
    "### Dans Python\n",
    "\n",
    "Dans les modules de matrices dense **aucun** solveurs itératif n'est implémenté. En revanche un grand nombre sont disponibles dans `scipy.sparse.linalg', nous reviendrons sur ce module un peu plus tard. "
   ]
  },
  {
   "cell_type": "markdown",
   "metadata": {
    "slideshow": {
     "slide_type": "slide"
    }
   },
   "source": [
    "## Les arrondis numériques"
   ]
  },
  {
   "cell_type": "markdown",
   "metadata": {
    "slideshow": {
     "slide_type": "subslide"
    }
   },
   "source": [
    "### Le conditionnement d'une matrice\n",
    "Par définition :\n",
    "\n",
    "$$\\text{Cond}(\\mathbf{A}) = \\Vert \\mathbf{A} \\Vert \\times \\Vert \\mathbf{A}^{-1} \\Vert, \\quad \\Vert \\mathbf{A} \\Vert = \\sup_{\\mathbf{v}} \\frac{ \\Vert \\mathbf{A} \\cdot  \\mathbf{v} \\Vert}{\\Vert \\mathbf{v}\\Vert } $$\n",
    "\n",
    "Considérons l'erreur $\\delta \\mathbf{A}$ sur la matrice:\n",
    "\n",
    "$$(\\mathbf{A} + \\mathbf{\\delta A} ) \\cdot  (\\mathbf{x} + \\mathbf{\\delta x}) = \\mathbf{b}, \\quad \\mathbf{A} \\cdot{\\mathbf{x}} = \\mathbf{b}$$\n",
    "\n",
    "avec $\\delta \\mathbf{A} \\cdot \\delta \\mathbf{x}$ négligeable devant $\\mathbf{A}\\cdot \\delta \\mathbf{x}$. Ainsi:\n",
    "$$\\delta \\mathbf{x} = - \\mathbf{A}^{-1} \\cdot \\delta \\mathbf{A} \\cdot \\mathbf{x}$$\n",
    "\n",
    "Donc :\n",
    "\n",
    "$$ \\Vert  \\delta \\mathbf{x} \\Vert  \\leq \\Vert  \\mathbf{A}^{-1} \\Vert \\: \\Vert \\mathbf{A} \\Vert \\: \\frac{\\Vert \\delta \\mathbf{A} \\Vert}{\\Vert \\mathbf{A} \\Vert} \\: \\Vert \\mathbf{x} \\Vert$$\n",
    "\n",
    "En conclusion:\n",
    "\n",
    "$$\\frac{\\Vert \\delta \\mathbf{x} \\Vert}{\\Vert \\mathbf{x} \\Vert} \\leq \\text{Cond}(\\mathbf{A}) \\: \\frac{\\Vert \\delta \\mathbf{A} \\Vert }{\\Vert \\mathbf{A} \\Vert}$$\n",
    "\n",
    "Un mauvais conditionnement amplifie les erreurs d'arrondi générées lors de la décomposition de $\\mathbf{A}$."
   ]
  },
  {
   "cell_type": "markdown",
   "metadata": {
    "slideshow": {
     "slide_type": "subslide"
    }
   },
   "source": [
    "**Exemple d'une matrice mal conditionnée**\n",
    "\n",
    "$$ \\mathbf{A} =  \\begin{bmatrix} 7 & 1 & 11& 10 \\newline 2 & 6 & 5 & 2 \\newline 8 & 11 & 3 & 8 \\newline 6 & 9 & 3 & 6 \\end{bmatrix}, \\;\\; \\mathbf{b} = \\begin{bmatrix} 29\\newline 15 \\newline  30 \\newline 24\\end{bmatrix}, \\Rightarrow \\mathbf{x} = \\begin{bmatrix} 1\\newline 1 \\newline  1 \\newline 1\\end{bmatrix} $$\n",
    "                                                                                                                                                          \n",
    "Observons l'impact d'une perturbation de $\\mathbf{b}$\n"
   ]
  },
  {
   "cell_type": "code",
   "execution_count": 10,
   "metadata": {
    "slideshow": {
     "slide_type": "fragment"
    }
   },
   "outputs": [
    {
     "name": "stdout",
     "output_type": "stream",
     "text": [
      " cond( A ) = 1424.9502711293794\n"
     ]
    }
   ],
   "source": [
    "import numpy as np\n",
    "\n",
    "\n",
    "A = np.array([[ 7, 1, 11, 10.],[2.,6,5,2.],[8,11,3,8.],[6,9,3,6]])\n",
    "b = np.array([29.,15,30,24]).reshape((-1,1))\n",
    "x = np.linalg.solve( A, b)\n",
    "\n",
    "print(\" cond( A ) = {}\".format( np.linalg.cond(A) ) )\n"
   ]
  },
  {
   "cell_type": "code",
   "execution_count": 11,
   "metadata": {
    "slideshow": {
     "slide_type": "subslide"
    }
   },
   "outputs": [
    {
     "data": {
      "text/plain": [
       "[<matplotlib.lines.Line2D at 0x7f9bc03bd320>]"
      ]
     },
     "execution_count": 11,
     "metadata": {},
     "output_type": "execute_result"
    },
    {
     "data": {
      "image/png": "[encoded data removed]",
      "text/plain": [
       "<Figure size 432x288 with 1 Axes>"
      ]
     },
     "metadata": {},
     "output_type": "display_data"
    }
   ],
   "source": [
    "delta = [0.01, 0.03, 0.05, 0.07, 0.09, 0.1, 0.3, 0.5, 0.7, 0.9, 1.]\n",
    "perturb = np.array([1.,-1.,1.,-1.]).reshape((-1,1))\n",
    "\n",
    "error_b = [0.]*len(delta)\n",
    "error_x = [0.]*len(delta)\n",
    "\n",
    "\n",
    "norm_b = np.linalg.norm(b)\n",
    "norm_x = np.linalg.norm(x)\n",
    "\n",
    "for i, d in enumerate(delta):\n",
    "    error_b[i] = np.linalg.norm( d * perturb ) / norm_b\n",
    "    xi = np.linalg.solve(A, b+d*perturb )\n",
    "    error_x[i] = np.linalg.norm( x - xi ) / norm_x\n",
    "\n",
    "\n",
    "import matplotlib.pyplot as plt\n",
    "%matplotlib inline\n",
    "plt.plot( error_b, error_x )\n",
    "\n",
    "\n"
   ]
  },
  {
   "cell_type": "markdown",
   "metadata": {
    "slideshow": {
     "slide_type": "subslide"
    }
   },
   "source": [
    "### Améliorer le conditionnement\n",
    "On peut améliorer le conditionnement d'un problème en réalisant une mise à l'échelle.  \n",
    "On utilise pour cela une matrice de scaling $\\mathbf{W}$ diagonale telle que :\n",
    "\n",
    "$$ \\text{cond} \\left( \\mathbf{W}\\cdot \\mathbf{A} \\cdot \\mathbf{W} \\right) < \\text{cond} \\left(  \\mathbf{A} \\right)  $$\n",
    "\n",
    "On peut par exemple définir la matrice de scaling comme :\n",
    "\n",
    "$$ \\left( \\mathbf{W} \\right)_{ii} = \\frac{1}{A_{ii}}\\,,\\;\\; \\text{si} \\; A_{ii} \\neq 0 $$\n"
   ]
  },
  {
   "cell_type": "markdown",
   "metadata": {
    "slideshow": {
     "slide_type": "slide"
    }
   },
   "source": [
    "## Quelques mots sur la compléxité algorithmique\n"
   ]
  },
  {
   "cell_type": "markdown",
   "metadata": {
    "slideshow": {
     "slide_type": "subslide"
    }
   },
   "source": [
    "### La compléxité d'un algorithme\n",
    "Problématique :\n",
    "Comment évaluer les performances d'un algorithme ? \n",
    "Solution 1  :\n",
    "Je l'implémente et je mesure le temps \n",
    "Problème :\n",
    "Les performances dépendent alors de la configuration de l'ordinateur\n",
    "\n",
    "Il faut donc une métrique *indépendante* de la machine.  \n",
    "D'où la notion de **compléxité** :\n",
    "\n",
    "Si je donne à mon algorithme une entrée de taille N, quel est l'ordre de grandeur en fonction de N\n",
    "du nombre d'opération que je vais effectuer ?\"\n",
    "\n",
    "On note la compléxité $T(N)$\n"
   ]
  },
  {
   "cell_type": "markdown",
   "metadata": {
    "slideshow": {
     "slide_type": "subslide"
    }
   },
   "source": [
    "### Exemple de complexité\n",
    "\n",
    "* Faire la somme de tous les termes d'une liste\n",
    "\n",
    "$$ T(N) = (N-1) \\text{ additions} = O(N) $$\n",
    "\n",
    "* Faire une moyenne pondérée\n",
    "\n",
    "$$ T(N) = N \\text{ multiplications} + (N-1) \\text{ additions} = 2N - 1 = O(N) $$\n",
    "\n",
    "* Trier une liste :\n",
    "\n",
    "  - Tri à bulle : $T(N) = O(N^2)$\n",
    "  - Tri rapide  : $T(N) = O(N \\log N)$\n",
    "\n",
    "* Produit Matrice-Vecteur \n",
    "\n",
    "$$ y_i = \\displaystyle\\sum_{k=1}^{N} M_{ik} x_{k} \\;\\; \\Rightarrow T(N) = O( N^2 ) $$"
   ]
  },
  {
   "cell_type": "markdown",
   "metadata": {
    "slideshow": {
     "slide_type": "subslide"
    }
   },
   "source": [
    "### Pour la résolution des systèmes linéaires\n",
    "\n",
    "Résolution d'un système triangulaire :\n",
    "\n",
    "$$ T(N) = O(N^2) $$\n",
    "\n",
    "Pivot de Gauss :\n",
    "\n",
    "$$ T(N) = N^3  $$\n",
    "\n",
    "Décomposition LU :\n",
    "\n",
    "$$ T(N)= \\frac{2}{3} N^3   $$\n",
    "\n",
    "Décomposition de Cholesky :\n",
    "\n",
    "$n^3/6$ additions+multiplications, $n(n-1)/2$ divisions, $n$ racines carrés\n",
    "\n",
    "$$ T(N) = O(n^3)$$\n"
   ]
  },
  {
   "cell_type": "markdown",
   "metadata": {
    "slideshow": {
     "slide_type": "subslide"
    }
   },
   "source": [
    "## Le cas particulier de nos matrices\n",
    "Il ne faut pas oublier que les systèmes que l'on cherche à résoudre ne sont pas quelconques ils proviennent d'une formulation éléments finis. Qu'est ce que cela implique me répondrez vous. Beaucoup de choses... Tout d'abord le fait que l'on utilise une discrétisation éléments finis implique que nos matrices sont nécéssairement creuses, i.e. elles comprennent un grand nombre de valeurs nulles. Cela vient du fait que les fonctions de forme utilisées dans la méthode des éléments finis sont à support compact. \n",
    "\n",
    "\n"
   ]
  },
  {
   "cell_type": "markdown",
   "metadata": {
    "slideshow": {
     "slide_type": "subslide"
    }
   },
   "source": [
    "### Les matrices sparses\n",
    "\n",
    "Des méthodes ont été mise en place pour tirer parti du fait qu'il y a de nombreux zéros dans nos matrices  \n",
    "Il s'agit des formats de stockage dits **sparse**  \n",
    "L'idée :\n",
    "\n",
    "**Ne stocker que les valeurs non nulles de la matrices**\n",
    "\n",
    "Différents formats : COO, CSR, CSC\n",
    "\n",
    "On peut alors tirer parti de ces formats de stockage pour réduire la complexité des algorithmes d'algèbre linéaire\n",
    "\n",
    "Par exemple un produit matrice-vecteur en sparse est de complexité :\n",
    "\n",
    "$$ T(N) = O(N\\cdot \\omega ) $$\n",
    "\n",
    "Avec $\\omega$ la largeur de bande de la matrice\n"
   ]
  },
  {
   "cell_type": "markdown",
   "metadata": {},
   "source": [
    "## Exercice --- Système masses-ressorts"
   ]
  },
  {
   "cell_type": "markdown",
   "metadata": {},
   "source": [
    "L'objectif est de déterminer par une approche matricielle la résponse du système à un effort $F$. \n",
    "\n",
    "La formulation du problème doit donc se ramener à la résolution d'un problème de la forme \n",
    "\n",
    "$$ \\mathbf{K} \\cdot \\mathbf{u} = \\mathbf{F}$$ \n",
    "\n",
    "Avec $\\mathbf{K} \\in \\mathbb{R}^{M\\times M}$, $\\mathbf{u} \\in \\mathbb{R}^{M}$, $\\mathbf{F} \\in \\mathbb{R}^{M}$ et $M$ le nombre de points du système. "
   ]
  },
  {
   "cell_type": "markdown",
   "metadata": {},
   "source": [
    "Pour cela on rappel que l'énergie potentielle du système peut s'exprimer de la forme suivante : \n",
    "\n",
    "$$ E_p = \\frac{1}{2} \\sum_{i=1}^{N} \\left( u_{i,1} - u_{i,0} \\right)\\cdot  k_{i} \\cdot \\left( u_{i,1} - u_{i,0} \\right) $$\n",
    "\n",
    "Avec $u_{i,0}$ le déplacement du premier noeuds d'attache du $i$-ème ressort et $u_{i,1}$ le déplacement du second noeud d'attache du $i$-ème ressort.\n",
    "\n",
    "Cette énergie potentielle peut s'écrire sous la forme matricielle suivante : \n",
    "\n",
    "$$ E_p = \\mathbf{U}^T \\cdot \\mathbf{K} \\cdot \\mathbf{U} $$ \n",
    "\n",
    "En utilisant alors le théorème de l'énergie potentielle nous pouvons écrire que \n",
    "\n",
    "$$ \\mathbf{K}\\cdot \\mathbf{U} = \\mathbf{F} $$"
   ]
  },
  {
   "cell_type": "markdown",
   "metadata": {},
   "source": [
    "**Question 1 :** \n",
    "\n",
    "\n",
    "A partir de l'expression de l'énergie potentielle d'un ressort définir la matrice de rigidité élémentaire. "
   ]
  },
  {
   "cell_type": "markdown",
   "metadata": {},
   "source": [
    "**Question 2 :** \n",
    "\n",
    "Utiliser la matrice de rigidité d'un ressort pour construire la matrice $\\mathbf{K}$ globale. Pour cela utiliser la notion de table de connectivité. Pour rappel la table de connectivité est une liste $L$ telle que le $i$-ème élément de $L$ est le doublet des indices des points d'attache du ressort. "
   ]
  },
  {
   "cell_type": "markdown",
   "metadata": {},
   "source": [
    "**Question 3 :**\n",
    "\n",
    "Construire le second membre $F$. \n",
    "\n"
   ]
  },
  {
   "cell_type": "markdown",
   "metadata": {},
   "source": [
    "**Question 4 :** \n",
    "    \n",
    "Résoudre le système linéaire "
   ]
  },
  {
   "cell_type": "markdown",
   "metadata": {},
   "source": [
    "**Bonus :** \n",
    "\n",
    "En utilisant matplotlib, visualiser le profil de la matrice $\\mathbf{K}$:  \n",
    "\n",
    "```python \n",
    "import matplotlib.pyplot as plt \n",
    "plt.imshow( K ) \n",
    "plt.colorbar()\n",
    "plt.show()\n",
    "```\n",
    "\n",
    "Que peut-on en conclure ? Quelle piste d'amélioration est envisageable pour accélérer la résolution du problème ? "
   ]
  },
  {
   "cell_type": "code",
   "execution_count": null,
   "metadata": {},
   "outputs": [],
   "source": []
  }
 ],
 "metadata": {
  "celltoolbar": "Slideshow",
  "kernelspec": {
   "display_name": "Python 3",
   "language": "python",
   "name": "python3"
  },
  "language_info": {
   "codemirror_mode": {
    "name": "ipython",
    "version": 3
   },
   "file_extension": ".py",
   "mimetype": "text/x-python",
   "name": "python",
   "nbconvert_exporter": "python",
   "pygments_lexer": "ipython3",
   "version": "3.7.4"
  },
  "nbTranslate": {
   "displayLangs": [
    "*"
   ],
   "hotkey": "alt-t",
   "langInMainMenu": true,
   "sourceLang": "en",
   "targetLang": "fr",
   "useGoogleTranslate": true
  },
  "rise": {
   "autolaunch": true,
   "slideNumber": "c/t",
   "theme": "moon",
   "transition": "slide"
  }
 },
 "nbformat": 4,
 "nbformat_minor": 2
}
