{
 "cells": [
  {
   "cell_type": "markdown",
   "metadata": {
    "slideshow": {
     "slide_type": "slide"
    }
   },
   "source": [
    "# Résolution de systèmes non-linéaires\n",
    "\n",
    "**Basile Marchand --- Mines ParisTech**"
   ]
  },
  {
   "cell_type": "markdown",
   "metadata": {
    "slideshow": {
     "slide_type": "subslide"
    }
   },
   "source": [
    "## Systèmes non-linéaires"
   ]
  },
  {
   "cell_type": "markdown",
   "metadata": {
    "slideshow": {
     "slide_type": "subslide"
    }
   },
   "source": [
    "Dans le cadre de la mécaniques des matériaux et des solides il apparaît très souvent des problèmes non-linéaires. En effet, dès que la formulation du problème fait intervenir des lois de comportement non-linéaires il n'est plus possible de se ramener directement à la résolution d'un système linaire de la forme $\\mathbf{K}\\cdot{U} = \\mathbf{F}$\n",
    "\n",
    "En revanche on se ramène, dans ce cadre non-linéaire, à la formulation d'un problème de la forme : \n",
    "\n",
    "$$\\mathcal{R}(\\mathbf{U}) = 0$$"
   ]
  },
  {
   "cell_type": "markdown",
   "metadata": {
    "slideshow": {
     "slide_type": "fragment"
    }
   },
   "source": [
    "La question est alors comment résoudre ce système de $N$ équations non-linéaires ?  "
   ]
  },
  {
   "cell_type": "markdown",
   "metadata": {
    "slideshow": {
     "slide_type": "fragment"
    }
   },
   "source": [
    "Pour cela divers méthodes existent : \n",
    "\n",
    "* Méthode du Point Fixe\n",
    "* Méthode de Newton (et toutes ses variantes)\n",
    "* Méthode  BFGS"
   ]
  },
  {
   "cell_type": "markdown",
   "metadata": {
    "slideshow": {
     "slide_type": "slide"
    }
   },
   "source": [
    "## Cas d'une équation scalaire "
   ]
  },
  {
   "cell_type": "markdown",
   "metadata": {
    "slideshow": {
     "slide_type": "subslide"
    }
   },
   "source": [
    "Considérons pour commencer une équation non-linéaire scalaire de la forme : \n",
    "\n",
    "$$ f(x) = 0 \\;\\; \\text{avec} \\;\\; x \\in \\mathbb{R} $$ \n",
    "\n",
    "\n",
    "\n",
    "\n",
    "\n",
    "\n"
   ]
  },
  {
   "cell_type": "markdown",
   "metadata": {
    "slideshow": {
     "slide_type": "subslide"
    }
   },
   "source": [
    "Le principe de la méthode de Newton repose sur la linéarisation du problème précédent autour d'un point, noté $x^{(k)}$. De fait cette linéarisation est réalisée en écrivant le développement de Taylor au premier ordre de la fonction $f$ autour du point $x^{(k)}$.\n",
    "\n",
    "$$ f( x^{(k)} + \\delta x ) =  f( x^{(k)}) + \\delta x \\cdot f'( x^{(k)} ) $$\n",
    "\n",
    "Nous pouvons alors écrire : \n",
    "\n",
    "$$ f( x^{(k)}) + \\delta x \\cdot f'( x^{(k)} ) = 0 \\rightarrow \\delta x = - \\frac{f( x^{(k)})}{ f'( x^{(k)}) } $$\n",
    "\n",
    "Si l'on définit alors $\\delta x$ comme $\\delta x = x^{(k+1)} - x^{(k)}$ on peut écrire la suite suivante : \n",
    "\n",
    "$$ x^{(k+1)} = x^{(k)} - \\frac{f( x^{(k)})}{ f'( x^{(k)}) }  $$"
   ]
  },
  {
   "cell_type": "markdown",
   "metadata": {
    "slideshow": {
     "slide_type": "subslide"
    }
   },
   "source": [
    "$$ x^{(k+1)} = x^{(k)} - \\frac{f( x^{(k)})}{ f'( x^{(k)}) }  $$\n",
    "\n",
    "\n",
    "**Critère de convergence :**\n",
    "\n",
    "Afin de stopper l'algorithme de Newton il est nécessaire de mettre en place un critère de convergence. Ce dernier, dans le cas d'une équation scalaire, s'exprime sous la forme suivante :\n",
    "\n",
    "$$ \\left\\vert f(x) \\right\\vert < \\epsilon $$\n",
    "\n",
    "Avec $\\epsilon$ la tolérance, généralement entre $10^{-6}$ et $10^{-9}$.\n"
   ]
  },
  {
   "cell_type": "markdown",
   "metadata": {
    "slideshow": {
     "slide_type": "fragment"
    }
   },
   "source": [
    "Cependant il arrive parfois que la méthode de Newton ne converge pas. Dans ce cas il faut néanmoins que cette dernière s'arrête. Pour cela on ajoute généralement un critère sur le nombre d'itération maximal autorisé. "
   ]
  },
  {
   "cell_type": "markdown",
   "metadata": {
    "slideshow": {
     "slide_type": "subslide"
    }
   },
   "source": [
    "**Exemple** : recherchons la racine de $\\cos x - x^3$. "
   ]
  },
  {
   "cell_type": "code",
   "execution_count": 112,
   "metadata": {
    "slideshow": {
     "slide_type": "fragment"
    }
   },
   "outputs": [
    {
     "name": "stdout",
     "output_type": "stream",
     "text": [
      "Ite 1 => x = 1.1121416370972725 ; |f(x)| = 0.9328201795040985\n",
      "Ite 2 => x = 0.9096726937368068 ; |f(x)| = 0.13875403935061048\n",
      "Ite 3 => x = 0.8672638182088165 ; |f(x)| = 0.005393998041341219\n",
      "Ite 4 => x = 0.8654771352982646 ; |f(x)| = 9.333106352094056e-06\n",
      "Ite 5 => x = 0.8654740331109566 ; |f(x)| = 2.8106184046805538e-11\n"
     ]
    }
   ],
   "source": [
    "from math import cos, sin\n",
    "\n",
    "f  = lambda x: cos(x) - x**3\n",
    "df = lambda x: -sin(x) - 3*x**2\n",
    "\n",
    "x = 0.5\n",
    "i = 0\n",
    "n_iter_max = 100\n",
    "x_hist = [x,]\n",
    "f_hist = [f(x),]\n",
    "while abs(f(x)) > 1.e-9 and i < n_iter_max:\n",
    "    x -= f(x)/df(x)\n",
    "    i += 1\n",
    "    print( \"Ite {} => x = {} ; |f(x)| = {}\".format(i, x, abs(f(x))))\n",
    "    x_hist.append( x )\n",
    "    f_hist.append( f(x) )"
   ]
  },
  {
   "cell_type": "code",
   "execution_count": 108,
   "metadata": {
    "slideshow": {
     "slide_type": "subslide"
    }
   },
   "outputs": [
    {
     "data": {
      "image/png": "[encoded data removed]",
      "text/plain": [
       "<Figure size 432x288 with 3 Axes>"
      ]
     },
     "metadata": {},
     "output_type": "display_data"
    }
   ],
   "source": [
    "import matplotlib.pyplot as plt\n",
    "%matplotlib inline\n",
    "n = 100\n",
    "sample = [ i/(n-1) for i in range(n) ]\n",
    "y = [f(x) for x in sample]\n",
    "plt.subplot(1,3,1)\n",
    "plt.plot(sample, y)\n",
    "plt.plot(x_hist, f_hist)\n",
    "plt.subplot(1,3,2)\n",
    "plt.plot(sample, y)\n",
    "plt.plot(x_hist, f_hist)\n",
    "plt.xlim(0.5,1.1)\n",
    "plt.subplot(1,3,3)\n",
    "plt.plot(sample, y)\n",
    "plt.plot(x_hist, f_hist)\n",
    "plt.xlim(0.8,1.)\n",
    "plt.ylim(-0.25, 0.25)\n",
    "plt.tight_layout()"
   ]
  },
  {
   "cell_type": "markdown",
   "metadata": {
    "slideshow": {
     "slide_type": "subslide"
    }
   },
   "source": [
    "### Convergence de la méthode de Newton\n",
    "\n",
    "On peut établir des preuves de convergence de la méthode de Newton caractérisant la vitesse de convergence de cette dernière. On ne détaillera pas ici les aspects théoriques de la chose, il faut simplement reternir que dans le cas où la fonction $f$ est convexe la méthode de Newton converge de manière quadratique. \n",
    "\n",
    "Cela signifie en pratique que dans le cas où la fonction $f$ possède les bonnes propriétés mathématiques si le résidu à l'itération $(k)$ est de l'ordre de $10^{-2}$ alors à l'itération $(k+1)$ il sera de l'ordre de $10^{(-4)}$.\n",
    "\n",
    "Pour rappel une fonction $f(x)$ est convexe sur $I$ si \n",
    "\n",
    "$$ f( \\lambda x + (1-\\lambda ) y ) \\leq \\lambda f(x) + (1 - \\lambda) f(y) \\;\\;\\; \\forall (x,y) \\in I^2 \\;\\; \\forall \\lambda \\in [0,1] $$\n",
    "\n",
    "\n",
    "\n",
    "\n",
    "\n"
   ]
  },
  {
   "cell_type": "markdown",
   "metadata": {
    "slideshow": {
     "slide_type": "subslide"
    }
   },
   "source": [
    "### Variantes de la méthodes de Newton \n",
    "\n",
    "La méthode de Newton implique donc de calculer, à chaque itération, la dérivée de la fonction objectif. Suivant la fonction considérée le calcul de cette dérivée peut être soit : (i) très compliqué ; (ii) très couteux. De fait des méthodes, dérivées de la méthode de Newton, ont été développée afin de réduire la compléxité et le coût de calcul. "
   ]
  },
  {
   "cell_type": "markdown",
   "metadata": {
    "slideshow": {
     "slide_type": "subslide"
    }
   },
   "source": [
    "#### Quasi-Newton \n",
    "\n",
    "La première variante de la méthode de Newton est la méthode dite de quasi-Newton. Le principe est de ne plus évaluer la fonction dérivée à chaque itérations mais de l'évaluer uniquement toutes les $m$ iterations. Cela permet alors, dans le cas où le calcul de la dérivée représente un coup de calcul non-négligeable, de réduire les temps de calculs. En revanche avec cette approche on perd la convergence quadratique de la méthode de Newton ce qui entraîne un nombre d'itération à convergence plus élevé. "
   ]
  },
  {
   "cell_type": "markdown",
   "metadata": {
    "slideshow": {
     "slide_type": "fragment"
    }
   },
   "source": [
    "**Exercice** : \n",
    "Implémenter la méthode de quasi-newton et traiter l'exemple du cours et comparer la convergence avec la méthode de Newton. \n",
    "\n",
    "$$ f(x) = \\cos x - x^3 $$"
   ]
  },
  {
   "cell_type": "code",
   "execution_count": 113,
   "metadata": {
    "slideshow": {
     "slide_type": "subslide"
    }
   },
   "outputs": [
    {
     "name": "stdout",
     "output_type": "stream",
     "text": [
      "Ite 1 => x = 1.1121416370972725 ; |f(x)| = 0.9328201795040985\n",
      "Ite 2 => x = 0.35339688175149364 ; |f(x)| = 0.894067003182728\n",
      "Ite 3 => x = 1.0806202678849752 ; |f(x)| = 0.7911024647165332\n",
      "Ite 4 => x = 0.9002285701551331 ; |f(x)| = 0.10812465966739138\n",
      "Ite 5 => x = 0.875573368340219 ; |f(x)| = 0.030683025887718984\n",
      "Ite 6 => x = 0.8685768497118039 ; |f(x)| = 0.009363087121268543\n",
      "Ite 7 => x = 0.865483340232459 ; |f(x)| = 2.800111502487823e-05\n",
      "Ite 8 => x = 0.8654740888270582 ; |f(x)| = 1.676521554916377e-07\n",
      "Ite 9 => x = 0.865474033435762 ; |f(x)| = 1.005295846567833e-09\n",
      "Ite 10 => x = 0.8654740331016144 ; |f(x)| = 1.1102230246251565e-16\n"
     ]
    }
   ],
   "source": [
    "from math import cos, sin\n",
    "\n",
    "f  = lambda x: cos(x) - x**3\n",
    "df = lambda x: -sin(x) - 3*x**2\n",
    "\n",
    "x = 0.5\n",
    "i = 0\n",
    "freq = 3\n",
    "n_iter_max = 100\n",
    "x_hist = [x,]\n",
    "f_hist = [f(x),]\n",
    "while abs(f(x)) > 1.e-9 and i < n_iter_max:\n",
    "    if i%freq == 0:\n",
    "        df_eval = df(x) \n",
    "    x -= f(x)/df_eval\n",
    "    i += 1\n",
    "    print( \"Ite {} => x = {} ; |f(x)| = {}\".format(i, x, abs(f(x))))\n",
    "    x_hist.append( x )\n",
    "    f_hist.append( f(x) )"
   ]
  },
  {
   "cell_type": "markdown",
   "metadata": {
    "slideshow": {
     "slide_type": "subslide"
    }
   },
   "source": [
    "### Méthode sécante\n",
    "\n",
    "La méthode sécante permet de mettre en place une résolution de type Newton sans connaitre l'expression de la dérivée $f'(x)$. Pour cela le principe est d'approximer la dérivée par le taux de variation de la fonction $f$ entre deux itérés. \n",
    "\n",
    "$$\n",
    "f'(x) \\simeq \\frac{ f(x^{(k)} ) - f(x^{(k-1)}) }{  x^{(k)} - x^{(k-1)} } \n",
    "$$\n",
    "\n",
    "La première chose que l'on peut constater est qu'avec cette méthode il faut fournir à l'initialiation de l'algorithme $x^{(0)}$ **et** $x^{(1)}$ avec  $ x^{(0)} \\neq x^{(1)} $.\n"
   ]
  },
  {
   "cell_type": "markdown",
   "metadata": {
    "slideshow": {
     "slide_type": "fragment"
    }
   },
   "source": [
    "**Exercice :** implémenter la méthode de la sécante et l'appliquer sur l'exemple du cours. \n",
    "    \n",
    "$$ f(x) = \\cos x - x^3 $$"
   ]
  },
  {
   "cell_type": "code",
   "execution_count": 114,
   "metadata": {
    "slideshow": {
     "slide_type": "subslide"
    }
   },
   "outputs": [
    {
     "name": "stdout",
     "output_type": "stream",
     "text": [
      "Ite 1 => x = 0.810399578872862 ; |f(x)| = 0.15698108892188467\n",
      "Ite 2 => x = 0.8586640585120002 ; |f(x)| = 0.02035290369817555\n",
      "Ite 3 => x = 0.8658538071318002 ; |f(x)| = 0.001142986089763931\n",
      "Ite 4 => x = 0.8654715115979841 ; |f(x)| = 7.586022334526987e-06\n",
      "Ite 5 => x = 0.8654740321722509 ; |f(x)| = 2.796025966311788e-09\n",
      "Ite 6 => x = 0.8654740331016167 ; |f(x)| = 6.994405055138486e-15\n"
     ]
    }
   ],
   "source": [
    "from math import cos, sin\n",
    "\n",
    "f  = lambda x: cos(x) - x**3\n",
    "df = lambda x, x_old: (f(x)-f(x_old))/(x - x_old) \n",
    "\n",
    "x = 0.5\n",
    "i = 0\n",
    "freq = 3\n",
    "x_hist = [x,]\n",
    "f_hist = [f(x),]\n",
    "n_iter_max = 100\n",
    "x = 1.\n",
    "x_hist.append( x )\n",
    "while abs(f(x)) > 1.e-9 and i < n_iter_max:\n",
    "    x -= f(x)/df(x, x_hist[-2])\n",
    "    i += 1\n",
    "    print( \"Ite {} => x = {} ; |f(x)| = {}\".format(i, x, abs(f(x))))\n",
    "    x_hist.append( x )\n",
    "    f_hist.append( f(x) )"
   ]
  },
  {
   "cell_type": "markdown",
   "metadata": {
    "slideshow": {
     "slide_type": "slide"
    }
   },
   "source": [
    "## Cas d'un système d'équation "
   ]
  },
  {
   "cell_type": "markdown",
   "metadata": {
    "slideshow": {
     "slide_type": "subslide"
    }
   },
   "source": [
    "Considérons à présent le cas général d'un système d'équations \n",
    "\n",
    "$$ \\mathcal{R}( \\mathbf{x} ) = \\mathbf{0} $$"
   ]
  },
  {
   "cell_type": "markdown",
   "metadata": {
    "slideshow": {
     "slide_type": "fragment"
    }
   },
   "source": [
    "La résolution de cette équation non-linéaire se fait par extension de la méthode de Newton, présentée précédement, au cas multi-dimensionnel. Pour cela la suite récurrente se contruit de la manière suivante : \n",
    "\n",
    "$$ \\mathbf{x}^{(k+1)} = \\mathbf{x}^{(k)} - D\\left( \\mathcal{R}( \\mathbf{x}^{(k)} ) \\right)^{-1} \\cdot \\mathcal{R}( \\mathbf{x}^{(k)} ) $$\n"
   ]
  },
  {
   "cell_type": "markdown",
   "metadata": {
    "slideshow": {
     "slide_type": "fragment"
    }
   },
   "source": [
    "La notation $D\\left( \\mathcal{R}( \\mathbf{x}^{(k)} )\\right)$ symbolise le gradient (dérivée multidimensionnelle) de la fonctionnelle $\\mathcal{R}$. Il s'agit donc de la matrice jacobienne de $\\mathcal{R}$ évaluée en $\\mathbf{x}^{(k)}$. Concrètement cette matrice jacobienne se définit, dans le cas d'un système de taille $n$, de la manière suivante : \n",
    "\n",
    "$$ \\left[ D\\left( \\mathcal{R}( \\mathbf{x}^{(k)} )\\right) \\right]_{ij} = \\left. \\frac{ \\partial [ \\mathcal{R} ]_{i} }{ \\partial [\\mathbf{x}]_{j} } \\right\\vert_{\\mathbf{x}=\\mathbf{x}^{(k)}} \\;\\;\\; \\forall (i,j) \\in N,N$$\n"
   ]
  },
  {
   "cell_type": "markdown",
   "metadata": {
    "slideshow": {
     "slide_type": "subslide"
    }
   },
   "source": [
    "Toute la difficultée associée à la mise en place d'une méthode de Newton pour la résolution d'un problème multi-dimensionnel non-linéaire réside dans le calcul de la matrice Jacobienne qui suivant les applications peut s'avérer être très complexe à déterminer. Vous verrez notamment que dans le cadre des comportement matériaux non-linéaire le calcul de cette matrice atteint une compléxité extrème car nécessite de calculer des dérivées tensorielle associées à la loi de comportement utilisée. "
   ]
  },
  {
   "cell_type": "markdown",
   "metadata": {
    "slideshow": {
     "slide_type": "subslide"
    }
   },
   "source": [
    "**Exemple** : considérons pour illustrer la méthode le système de deux équations suivant \n",
    "\n",
    "$$\n",
    "\\begin{cases}\n",
    "x_1^{2} + 2 x_1 x_2 &= 0 \\\\\n",
    "x_1 x_2 + 1           &= 0\n",
    "\\end{cases}\n",
    "$$\n"
   ]
  },
  {
   "cell_type": "code",
   "execution_count": 118,
   "metadata": {
    "slideshow": {
     "slide_type": "subslide"
    }
   },
   "outputs": [
    {
     "name": "stdout",
     "output_type": "stream",
     "text": [
      "Ite 1 => || f(x) || = 2.574e+00\n",
      "Ite 2 => || f(x) || = 1.336e-01\n",
      "Ite 3 => || f(x) || = 2.293e-04\n",
      "Ite 4 => || f(x) || = 3.434e-10\n",
      "Solution is [[ 1.41421356]\n",
      " [-0.70710678]]\n"
     ]
    }
   ],
   "source": [
    "import numpy as np\n",
    "\n",
    "def f( x ):\n",
    "    return np.array([[x[0,0]**2 + 2*x[0,0]*x[1,0]],[x[0,0]*x[1,0]+1]])\n",
    "\n",
    "def df( x ):\n",
    "    jac = np.zeros( (x.shape[0], x.shape[0]))\n",
    "    jac[0,0] = 2*x[0,0] + 2*x[1,0]\n",
    "    jac[0,1] = 2*x[0,0]\n",
    "    jac[1,0] = x[1,0]\n",
    "    jac[1,1] = x[0,0]\n",
    "    return jac\n",
    "\n",
    "\n",
    "n_iter_max = 100\n",
    "x = 1. + np.zeros((2,1))\n",
    "i = 0\n",
    "while np.linalg.norm( f(x) ) > 1.e-9 and i < n_iter_max:\n",
    "    jac = df(x)\n",
    "    res = f(x)\n",
    "    dx = np.linalg.solve( jac, res )\n",
    "    x -= dx\n",
    "    i += 1\n",
    "    print(\"Ite {} => || f(x) || = {:.3e}\".format(i, np.linalg.norm( f(x) )))\n",
    "    \n",
    "print(\"Solution is {}\".format(x))"
   ]
  },
  {
   "cell_type": "markdown",
   "metadata": {
    "slideshow": {
     "slide_type": "subslide"
    }
   },
   "source": [
    "Si l'on résout le même problème en considérant une méthode de quasi-newton, c'est à dire que la matrice Jacobienne n'est calculée qu'une seule fois (à l'initialisation) on constate que la convergence quadratique n'est pas conservée et que le nombre d'itération nécessaire est bien supérieur."
   ]
  },
  {
   "cell_type": "code",
   "execution_count": 119,
   "metadata": {
    "slideshow": {
     "slide_type": "subslide"
    }
   },
   "outputs": [
    {
     "name": "stdout",
     "output_type": "stream",
     "text": [
      "Ite 1 => || f(x) || = 2.574e+00\n",
      "Ite 2 => || f(x) || = 1.755e+00\n",
      "Ite 3 => || f(x) || = 9.466e-01\n",
      "Ite 4 => || f(x) || = 5.043e-01\n",
      "Ite 5 => || f(x) || = 2.507e-01\n",
      "Ite 6 => || f(x) || = 1.222e-01\n",
      "Ite 7 => || f(x) || = 5.804e-02\n",
      "Ite 8 => || f(x) || = 2.715e-02\n",
      "Ite 9 => || f(x) || = 1.252e-02\n",
      "Ite 10 => || f(x) || = 5.720e-03\n",
      "Ite 11 => || f(x) || = 2.589e-03\n",
      "Ite 12 => || f(x) || = 1.164e-03\n",
      "Ite 13 => || f(x) || = 5.197e-04\n",
      "Ite 14 => || f(x) || = 2.309e-04\n",
      "Ite 15 => || f(x) || = 1.021e-04\n",
      "Ite 16 => || f(x) || = 4.498e-05\n",
      "Ite 17 => || f(x) || = 1.974e-05\n",
      "Ite 18 => || f(x) || = 8.638e-06\n",
      "Ite 19 => || f(x) || = 3.768e-06\n",
      "Ite 20 => || f(x) || = 1.640e-06\n",
      "Ite 21 => || f(x) || = 7.120e-07\n",
      "Solution is [[ 1.41421356]\n",
      " [-0.70710701]]\n"
     ]
    }
   ],
   "source": [
    "x = 1. + np.zeros((2,1))\n",
    "i = 0\n",
    "n_iter_max = 100\n",
    "\n",
    "jac = df(x)\n",
    "\n",
    "while np.linalg.norm( f(x) ) > 1.e-6 and i < n_iter_max:\n",
    "    res = f(x)\n",
    "    dx = np.linalg.solve( jac, res )\n",
    "    x -= dx\n",
    "    i += 1\n",
    "    print(\"Ite {} => || f(x) || = {:.3e}\".format(i, np.linalg.norm( f(x) )))\n",
    "    \n",
    "print(\"Solution is {}\".format(x))"
   ]
  },
  {
   "cell_type": "code",
   "execution_count": 120,
   "metadata": {
    "slideshow": {
     "slide_type": "subslide"
    }
   },
   "outputs": [
    {
     "name": "stdout",
     "output_type": "stream",
     "text": [
      "Ite 1 => || f(x) || = 2.574e+00\n",
      "Ite 2 => || f(x) || = 1.755e+00\n",
      "Ite 3 => || f(x) || = 9.466e-01\n",
      "Ite 4 => || f(x) || = 5.043e-01\n",
      "Ite 5 => || f(x) || = 2.507e-01\n",
      "Ite 6 => || f(x) || = 1.222e-01\n",
      "Ite 7 => || f(x) || = 5.804e-02\n",
      "Ite 8 => || f(x) || = 1.886e-05\n",
      "Ite 9 => || f(x) || = 9.216e-09\n",
      "Solution is [[ 1.41421356]\n",
      " [-0.70710678]]\n"
     ]
    }
   ],
   "source": [
    "x = 1. + np.zeros((2,1))\n",
    "i = 0\n",
    "f_update = 7\n",
    "n_iter_max = 100\n",
    "\n",
    "while np.linalg.norm( f(x) ) > 1.e-6 and i < n_iter_max:\n",
    "    res = f(x)\n",
    "    if i%f_update == 0:\n",
    "        jac = df(x)\n",
    "    dx = np.linalg.solve( jac, res )\n",
    "    x -= dx\n",
    "    i += 1\n",
    "    print(\"Ite {} => || f(x) || = {:.3e}\".format(i, np.linalg.norm( f(x) )))\n",
    "    \n",
    "print(\"Solution is {}\".format(x))"
   ]
  },
  {
   "cell_type": "markdown",
   "metadata": {
    "slideshow": {
     "slide_type": "subslide"
    }
   },
   "source": [
    "Pour finir comparons les courbes de convergence entre les différentes variantes de la méthode de Newton. On considère pour cela toujours le même problème que précédemment. "
   ]
  },
  {
   "cell_type": "code",
   "execution_count": 124,
   "metadata": {
    "slideshow": {
     "slide_type": "subslide"
    }
   },
   "outputs": [
    {
     "data": {
      "text/plain": [
       "<matplotlib.legend.Legend at 0x7f843ae842b0>"
      ]
     },
     "execution_count": 124,
     "metadata": {},
     "output_type": "execute_result"
    },
    {
     "data": {
      "image/png": "[encoded data removed]",
      "text/plain": [
       "<Figure size 432x288 with 1 Axes>"
      ]
     },
     "metadata": {},
     "output_type": "display_data"
    }
   ],
   "source": [
    "import matplotlib.pyplot as plt\n",
    "\n",
    "def newton(func, dfunc, x0, crit, freq=1):\n",
    "    i = 0\n",
    "    conv = [np.linalg.norm( f(x0) ), ]\n",
    "    x = x0\n",
    "    while np.linalg.norm( f(x) ) > crit:\n",
    "        if i%freq == 0:\n",
    "            jac = df(x)\n",
    "            \n",
    "        res = f(x)\n",
    "        dx = np.linalg.solve( jac, res )\n",
    "        x -= dx\n",
    "        i += 1\n",
    "        conv.append( np.linalg.norm( f(x) ) )\n",
    "    return conv\n",
    "\n",
    "epsilon = 1.e-10\n",
    "        \n",
    "for freq in [1,2,3,4,5,6,7,8,9,10,20,100]:\n",
    "    x0 = 1. + np.zeros((2,1))\n",
    "    convergence = newton(f, df, x0, epsilon, freq )\n",
    "\n",
    "    plt.semilogy( range(1,len(convergence)+1), convergence, label=\"freq = {}\".format(freq) )\n",
    "    \n",
    "plt.xlabel(\"#iteration\")\n",
    "plt.ylabel(\"$\\Vert R \\Vert $\")\n",
    "plt.legend(bbox_to_anchor=(1., 1.0))\n"
   ]
  },
  {
   "cell_type": "markdown",
   "metadata": {
    "slideshow": {
     "slide_type": "subslide"
    }
   },
   "source": [
    "### Approximation de la jacobienne"
   ]
  },
  {
   "cell_type": "markdown",
   "metadata": {
    "slideshow": {
     "slide_type": "subslide"
    }
   },
   "source": [
    "Comme déjà dit précédemment il est parfois très compliqué de calculer la matrice jacobienne. Dans ce cas il existe des approches permettant d'approximer cette dernière. Nous allons ici présenter l'approche très classique (parmis de nombreuses autres) : approximation par différences finies. \n",
    "\n",
    "**Approximation par différence finies**\n",
    "L'idée de base de cette approche est de remplacer la dérivée de la fonctionnelle selon une variable par une approximation calculée à l'aide des différences finies. Concrètement cela se traduit, dans le cadre d'une approximation d'ordre 1 par : \n",
    "\n",
    "$$ \\left[ D\\left( \\mathcal{R}( \\mathbf{x}^{(k)} )\\right) \\right]_{ij} = \\left. \\frac{ \\partial [ \\mathcal{R} ]_{i} }{ \\partial [\\mathbf{x}]_{j} } \\right\\vert_{\\mathbf{x}=\\mathbf{x}^{(k)}} \\simeq  \\frac{ [ \\mathcal{R}( \\mathbf{x} + h \\mathbf{e}_{j} ) ]_{i} - [\\mathcal{R}( \\mathbf{x} ) ]_{i} }{ h } $$ \n",
    "\n",
    "De manière concrête cette approximation se traduit en Python de la manière suivante : "
   ]
  },
  {
   "cell_type": "code",
   "execution_count": 82,
   "metadata": {
    "slideshow": {
     "slide_type": "subslide"
    }
   },
   "outputs": [
    {
     "name": "stdout",
     "output_type": "stream",
     "text": [
      "Jacobienne exacte :\n",
      " [[4. 2.]\n",
      " [1. 1.]] \n",
      "Approximation ordre 1 :\n",
      "[[4.01 2.  ]\n",
      " [1.   1.  ]]\n"
     ]
    }
   ],
   "source": [
    "def approx_diff1( func, x, h=0.01):\n",
    "    jac = np.zeros((x.shape[0], x.shape[0]))\n",
    "    fx = func(x)\n",
    "    for j in range(x.shape[0]):\n",
    "        dx = np.zeros_like(x)\n",
    "        dx[j,[0]] = h*x[j]\n",
    "        jac[:,[j]] = (func(x+dx) - fx)/h\n",
    "    return jac\n",
    "\n",
    "x0 = np.array([[1.], [1.]])\n",
    "\n",
    "j_diff1 = approx_diff1(f, x0,h=0.01)\n",
    "j_exact = df(x0)\n",
    "\n",
    "print(\"Jacobienne exacte :\\n {} \".format(j_exact))\n",
    "print(\"Approximation ordre 1 :\\n{}\".format(j_diff1))\n"
   ]
  },
  {
   "cell_type": "markdown",
   "metadata": {
    "slideshow": {
     "slide_type": "subslide"
    }
   },
   "source": [
    "Si l'on souhaite une approximation au second ordre il est alors nécessaire d'utiliser la formule suivante :\n",
    "$$ \\left[ D\\left( \\mathcal{R}( \\mathbf{x}^{(k)} )\\right) \\right]_{ij} = \\left. \\frac{ \\partial [ \\mathcal{R} ]_{i} }{ \\partial [\\mathbf{x}]_{j} } \\right\\vert_{\\mathbf{x}=\\mathbf{x}^{(k)}} \\simeq  \\frac{ [ \\mathcal{R}( \\mathbf{x} + h \\mathbf{e}_{j} ) ]_{i} - [\\mathcal{R}( \\mathbf{x} -  h \\mathbf{e}_{j} ) ]_{i} }{ 2h } $$ \n"
   ]
  },
  {
   "cell_type": "code",
   "execution_count": 83,
   "metadata": {
    "slideshow": {
     "slide_type": "subslide"
    }
   },
   "outputs": [
    {
     "name": "stdout",
     "output_type": "stream",
     "text": [
      "Jacobienne exacte :\n",
      " [[4. 2.]\n",
      " [1. 1.]] \n",
      "Approximation ordre 2 :\n",
      "[[4. 2.]\n",
      " [1. 1.]]\n"
     ]
    }
   ],
   "source": [
    "def approx_diff2( func, x, h=0.01):\n",
    "    jac = np.zeros((x.shape[0], x.shape[0]))\n",
    "    fx = func(x)\n",
    "    for j in range(x.shape[0]):\n",
    "        dx = np.zeros_like(x)\n",
    "        dx[j,[0]] = h*x[j]\n",
    "        jac[:,[j]] = (func(x+dx) - func(x-dx))/(2.*h)\n",
    "    return jac\n",
    "\n",
    "x0 = np.array([[1.], [1.]])\n",
    "\n",
    "j_diff2 = approx_diff2(f, x0,h=0.01)\n",
    "j_exact = df(x0)\n",
    "\n",
    "print(\"Jacobienne exacte :\\n {} \".format(j_exact))\n",
    "print(\"Approximation ordre 2 :\\n{}\".format(j_diff2))\n"
   ]
  },
  {
   "cell_type": "markdown",
   "metadata": {
    "slideshow": {
     "slide_type": "subslide"
    }
   },
   "source": [
    "Si l'on utilise alors cette approximation de la matrice tangente pour résoudre notre problème non-linéaire on obtient la convergence suivante : "
   ]
  },
  {
   "cell_type": "code",
   "execution_count": 96,
   "metadata": {
    "slideshow": {
     "slide_type": "subslide"
    }
   },
   "outputs": [
    {
     "data": {
      "text/plain": [
       "<matplotlib.legend.Legend at 0x7f843b382da0>"
      ]
     },
     "execution_count": 96,
     "metadata": {},
     "output_type": "execute_result"
    },
    {
     "data": {
      "image/png": "[encoded data removed]",
      "text/plain": [
       "<Figure size 432x288 with 1 Axes>"
      ]
     },
     "metadata": {},
     "output_type": "display_data"
    }
   ],
   "source": [
    "def df_approx( x ):\n",
    "    h = 0.001\n",
    "    jac = approx_diff2(f, x, h)\n",
    "\n",
    "x0 = 1. + np.zeros((2,1))\n",
    "conv_parfaite = newton(f, df, x0, epsilon)\n",
    "x0 = 1. + np.zeros((2,1))\n",
    "conv_approx = newton(f, df_approx, x0, epsilon)\n",
    "\n",
    "\n",
    "plt.semilogy(range(1,len(conv_parfaite)+1), conv_parfaite, label=\"Jacobienne exacte\")\n",
    "plt.semilogy(range(1,len(conv_approx)+1), conv_approx, label=\"Diff. Finies Ordre 1\")\n",
    "plt.legend()"
   ]
  },
  {
   "cell_type": "markdown",
   "metadata": {
    "slideshow": {
     "slide_type": "slide"
    }
   },
   "source": [
    "### Dans l'environnement Python "
   ]
  },
  {
   "cell_type": "markdown",
   "metadata": {
    "slideshow": {
     "slide_type": "subslide"
    }
   },
   "source": [
    "Bien évidemment vous n'êtes pas obligé de ré-implémenter vous même la méthode de Newton si vous avez un résoudre un problème non-linéaire. Des fonctions sont déjà disponibles dans `scipy.optimize`. Il s'agit entre autre des fonctions `root` et `fsolve`. Il faut cependant faire attention au fait que caché derrière ces deux fonctions, il y a en fait une grosse machinerie qui comprends de nombreuses méthodes de résolution et pas uniquement la méthode de Newton classique. \n",
    "\n",
    "\n",
    "Le module `scipy.optimize` dispose en réalité d'une grande variété de méthode permettant de trouver la solution d'un problème non-linéaire qu'il soit scalaire ou vectoriel. Pour plus d'information je vous recommande d'allez voir la [documentation](https://docs.scipy.org/doc/scipy/reference/optimize.html) du module d'optimization à la section **Root finding**.\n",
    "\n"
   ]
  },
  {
   "cell_type": "markdown",
   "metadata": {},
   "source": [
    "## Exercice"
   ]
  },
  {
   "cell_type": "markdown",
   "metadata": {},
   "source": [
    "On considère un système de ressorts dont chaque éléments dispose d'une rigidité non-linéaire fonction du déplacement de la forme: \n",
    "$$ \\mathcal{K} \\left( x \\right) = k_{0} \\left( 1 + e^{- u } + x^5 \\right)  $$"
   ]
  },
  {
   "cell_type": "code",
   "execution_count": 1,
   "metadata": {},
   "outputs": [
    {
     "data": {
      "text/plain": [
       "Text(0, 0.5, 'Rigidite')"
      ]
     },
     "execution_count": 1,
     "metadata": {},
     "output_type": "execute_result"
    },
    {
     "data": {
      "image/png": "[encoded data removed]",
      "text/plain": [
       "<Figure size 432x288 with 1 Axes>"
      ]
     },
     "metadata": {
      "needs_background": "light"
     },
     "output_type": "display_data"
    }
   ],
   "source": [
    "%matplotlib inline\n",
    "import matplotlib.pyplot as plt\n",
    "import numpy as np\n",
    "\n",
    "k0 =1.\n",
    "rigi = lambda x, k0: k0*(1.+np.exp(-x) + x**5 )\n",
    "\n",
    "list_u = np.linspace(-1,1.,100)\n",
    "\n",
    "list_k = rigi( list_u, k0)\n",
    "\n",
    "plt.plot(list_u, list_k)\n",
    "plt.xlabel(\"Deplacement\")\n",
    "plt.ylabel(\"Rigidite\")"
   ]
  },
  {
   "cell_type": "markdown",
   "metadata": {},
   "source": [
    "L'énergie potentielle $E(\\mathbf{x})$ est la somme des énergies de chaque ressort reliant $x_i$ à $x_j$, moins le travail des efforts extérieurs (ici $x_N \\: F$):\n",
    "$$ E(\\mathbf{x}) = \\sum_{i=1}^N \\frac{1}{2}  \\left(x_{L(i,1)} - x_{L(i,2)}\\right) \\cdot \\mathcal{K}\\left(  x_{L(i,1)} - x_{L(i,2)} \\right) - x_N\\: F $$\n",
    "$L(k,:)$ est la table de connectivité indiquant les points d'accroche des ressorts.\n",
    "\n",
    "\n",
    "* Construire une fonction `build_system( F, k, N)` construisant la matrice jacobienne $\\mathbf{K}$ et le second membre $\\mathbf{F}$.\n",
    "* Commenter le profil de la matrice\n",
    "* \n",
    "* Étudier le temps de calcul de la factorisation pour $N=10,100,500,1000,5000,10000$\n",
    "* Comment peut on augmenter la largeur  de bande de la matrice ?\n",
    "* Alors faite le\n",
    "* Refaire l'étude des temps de factorisation\n",
    "* Comment peut-on tirer parti de la structure de la matrice ?"
   ]
  },
  {
   "cell_type": "code",
   "execution_count": null,
   "metadata": {},
   "outputs": [],
   "source": []
  }
 ],
 "metadata": {
  "celltoolbar": "Slideshow",
  "kernelspec": {
   "display_name": "Python 3",
   "language": "python",
   "name": "python3"
  },
  "language_info": {
   "codemirror_mode": {
    "name": "ipython",
    "version": 3
   },
   "file_extension": ".py",
   "mimetype": "text/x-python",
   "name": "python",
   "nbconvert_exporter": "python",
   "pygments_lexer": "ipython3",
   "version": "3.7.4"
  },
  "rise": {
   "autolaunch": true,
   "slideNumber": "c/t",
   "theme": "moon",
   "transition": "slide"
  }
 },
 "nbformat": 4,
 "nbformat_minor": 2
}
