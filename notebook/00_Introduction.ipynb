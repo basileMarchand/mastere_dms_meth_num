{
 "cells": [
  {
   "cell_type": "markdown",
   "metadata": {
    "slideshow": {
     "slide_type": "slide"
    }
   },
   "source": [
    "# Méthodes Numériques\n",
    "## Mastère Spécialisé Design des Matériaux et des Structures\n",
    "### @authors : Basile Marchand, Sébastien Joannes, Franck N'guyen\n",
    "\n",
    "-----------\n",
    "## Introduction \n",
    "\n",
    "------------\n",
    "\n",
    "#### Année 2018-2019"
   ]
  },
  {
   "cell_type": "markdown",
   "metadata": {
    "slideshow": {
     "slide_type": "slide"
    }
   },
   "source": [
    "### Pourquoi un cours sur les méthodes numériques ?\n"
   ]
  },
  {
   "cell_type": "markdown",
   "metadata": {
    "slideshow": {
     "slide_type": "fragment"
    }
   },
   "source": [
    "Les méthodes numériques au coeurs du design des matériaux et des structures. "
   ]
  },
  {
   "cell_type": "markdown",
   "metadata": {
    "slideshow": {
     "slide_type": "fragment"
    }
   },
   "source": [
    "La mécanique des matériaux et des structures repose aujourd'hui pleinement sur l'informatique et les simulations numériques. \n",
    "\n",
    "Que ce soit en terme de __dimensionnement des structures__ avec des simulations numériques par éléments finis de plus en plus complexes. Structur*es à plusieurs millions de dofs considérant des comportements non-linéaires complexes. \n",
    "\n",
    "![Test](media/ImgIntro.png)\n"
   ]
  },
  {
   "cell_type": "markdown",
   "metadata": {
    "slideshow": {
     "slide_type": "subslide"
    },
    "tags": [
     "hidden"
    ]
   },
   "source": [
    "Une phrase inutile qui ne sera pas dans la presentation"
   ]
  },
  {
   "cell_type": "markdown",
   "metadata": {
    "slideshow": {
     "slide_type": "subslide"
    }
   },
   "source": [
    "Ou bien également en terme d'__expérimentation mécanique__ avec des démarches d'essais et des moyens d'acquisition de plus en plus complexes et riches d'informations tel que la corrélation d'image ou les essais in-situ en tomographe. Générant alors des volumes de données à post-traiter gigantesque. Un essai in-situ en tomographe génère approximativement 1 To de données.  \n",
    "\n",
    "| Proudhon et al 2017 | Proudhon et al 2016 |\n",
    "| --------------------|---------------------|\n",
    "| ![](media/Proudhon2017.png) | ![](media/Proudhon2016.png) |\n"
   ]
  },
  {
   "cell_type": "markdown",
   "metadata": {
    "slideshow": {
     "slide_type": "slide"
    }
   },
   "source": [
    "### Le cours Méthodes Numérique \n",
    "### un pré-requis à de nombreux autres module \n",
    "### du mastère DMS"
   ]
  },
  {
   "cell_type": "markdown",
   "metadata": {
    "slideshow": {
     "slide_type": "subslide"
    }
   },
   "source": [
    "<center><table>\n",
    "<tr> \n",
    "  <td>\n",
    "      <center> <media src=\"media/test_timeline.png\" style=\"width: 35%;\" /> <p> Articulations des cours du Mastère DMS </p> </center>\n",
    "  </td>\n",
    "</tr>\n",
    "</table>\n",
    "    </center>"
   ]
  },
  {
   "cell_type": "markdown",
   "metadata": {
    "slideshow": {
     "slide_type": "slide"
    }
   },
   "source": [
    "## Programme du cours Méthodes Numériques\n",
    "\n",
    "\n",
    "\n",
    "1. Introduction à Python\n",
    "2. Utilisation des modules scientifiques de Python \n",
    "3. Résolution de systèmes linéaires \n",
    "4. Résolution de systèmes non-linéaires\n",
    "5. Méthodes d'intégration\n",
    "6. Interpolation\n",
    "7. Analyses d'images (2 séances)\n",
    "8. Méthodes des différences finies (2 séances)\n",
    "9. Séance de TP \"libre\"\n",
    "\n",
    "## Évaluation\n",
    "\n",
    "Examen écrit au mois de Novembre"
   ]
  },
  {
   "cell_type": "code",
   "execution_count": null,
   "metadata": {},
   "outputs": [],
   "source": []
  }
 ],
 "metadata": {
  "celltoolbar": "Slideshow",
  "kernelspec": {
   "display_name": "Python 3",
   "language": "python",
   "name": "python3"
  },
  "language_info": {
   "codemirror_mode": {
    "name": "ipython",
    "version": 3
   },
   "file_extension": ".py",
   "mimetype": "text/x-python",
   "name": "python",
   "nbconvert_exporter": "python",
   "pygments_lexer": "ipython3",
   "version": "3.6.6"
  }
 },
 "nbformat": 4,
 "nbformat_minor": 2
}
